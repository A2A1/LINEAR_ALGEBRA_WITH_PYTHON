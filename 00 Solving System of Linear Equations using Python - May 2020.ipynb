{
 "cells": [
  {
   "cell_type": "markdown",
   "metadata": {},
   "source": [
    "# Solving System of Linear Equations using Python - May 2020"
   ]
  },
  {
   "cell_type": "markdown",
   "metadata": {},
   "source": [
    "<center> 1x + 1y = 35 </center> \n",
    "<center> 2x + 4y = 94</center> \n",
    "<p> </p> \n",
    "\n",
    "$$A = \\left[ \\begin{array}{ccc} 1 & 1 \\\\ 2 & 4 \\\\ \\end{array} \\right]$$ \n",
    "<p></p>\n",
    "$$X = \\left[ \\begin{array}{c} x \\\\ y \\\\ \\end{array} \\right]  $$ \n",
    "<p></p>\n",
    "$$B = \\left[ \\begin{array}{c} 35 \\\\ 94 \\\\ \\end{array} \\right]$$\n",
    "<p></p>\n",
    "$$\\left[ \\begin{array}{ccc} 1 & 1 \\\\ 2 & 4 \\\\ \\end{array} \\right]\\left[ \\begin{array}{c} x \\\\ y \\\\ \\end{array} \\right] = \\left[ \\begin{array}{c} 35 \\\\ 94 \\\\ \\end{array} \\right] $$ \n",
    "<p></p>\n",
    "<center> A**X** = B </center>\n",
    "<p> </p>\n",
    "<center> A<sup>-1 </sup>A**X** = A<sup>-1</sup>B  </center>\n",
    "<p> </p>\n",
    "\n",
    "<center>**X** = A<sup>-1</sup>B </center>"
   ]
  },
  {
   "cell_type": "code",
   "execution_count": 2,
   "metadata": {},
   "outputs": [],
   "source": [
    "import numpy as np "
   ]
  },
  {
   "cell_type": "code",
   "execution_count": 3,
   "metadata": {},
   "outputs": [],
   "source": [
    "# Defining matrixes\n",
    "A = np.matrix([[1,1], [2,4]])\n",
    "B = np.matrix([[35], [94]])"
   ]
  },
  {
   "cell_type": "code",
   "execution_count": 5,
   "metadata": {},
   "outputs": [
    {
     "name": "stdout",
     "output_type": "stream",
     "text": [
      "[[1 1]\n",
      " [2 4]]\n"
     ]
    }
   ],
   "source": [
    "print(A)"
   ]
  },
  {
   "cell_type": "code",
   "execution_count": 6,
   "metadata": {},
   "outputs": [
    {
     "name": "stdout",
     "output_type": "stream",
     "text": [
      "[[35]\n",
      " [94]]\n"
     ]
    }
   ],
   "source": [
    "print(B)"
   ]
  },
  {
   "cell_type": "code",
   "execution_count": 7,
   "metadata": {},
   "outputs": [],
   "source": [
    "# Taking inverse of A \n",
    "# Using numpy linear algebra function linalg.inv()\n",
    "# More Infor at http://docs.scipy.org/doc/numpy-1.10.1/reference/routines.linalg.html\n",
    "A_inverse = np.linalg.inv(A)"
   ]
  },
  {
   "cell_type": "code",
   "execution_count": 8,
   "metadata": {},
   "outputs": [
    {
     "name": "stdout",
     "output_type": "stream",
     "text": [
      "[[ 2.  -0.5]\n",
      " [-1.   0.5]]\n"
     ]
    }
   ],
   "source": [
    "print(A_inverse)"
   ]
  },
  {
   "cell_type": "code",
   "execution_count": 9,
   "metadata": {},
   "outputs": [],
   "source": [
    "# Solving for X\n",
    "X = A_inverse * B "
   ]
  },
  {
   "cell_type": "code",
   "execution_count": 10,
   "metadata": {},
   "outputs": [
    {
     "name": "stdout",
     "output_type": "stream",
     "text": [
      "[[23.]\n",
      " [12.]]\n"
     ]
    }
   ],
   "source": [
    "print(X)"
   ]
  },
  {
   "cell_type": "markdown",
   "metadata": {},
   "source": [
    "x = 23 and y = 12"
   ]
  },
  {
   "cell_type": "code",
   "execution_count": null,
   "metadata": {},
   "outputs": [],
   "source": []
  }
 ],
 "metadata": {
  "kernelspec": {
   "display_name": "Python 3",
   "language": "python",
   "name": "python3"
  },
  "language_info": {
   "codemirror_mode": {
    "name": "ipython",
    "version": 3
   },
   "file_extension": ".py",
   "mimetype": "text/x-python",
   "name": "python",
   "nbconvert_exporter": "python",
   "pygments_lexer": "ipython3",
   "version": "3.7.1"
  }
 },
 "nbformat": 4,
 "nbformat_minor": 2
}
