{
 "cells": [
  {
   "cell_type": "markdown",
   "metadata": {},
   "source": [
    "# Solving System of Linear Equations using Python - May 2020"
   ]
  },
  {
   "cell_type": "markdown",
   "metadata": {},
   "source": [
    "<center> 1x + 1y = 35 </center> \n",
    "<center> 2x + 4y = 94</center> \n",
    "<p> </p> \n",
    "\n",
    "$$A = \\left[ \\begin{array}{ccc} 1 & 1 \\\\ 2 & 4 \\\\ \\end{array} \\right]$$ \n",
    "<p></p>\n",
    "$$X = \\left[ \\begin{array}{c} x \\\\ y \\\\ \\end{array} \\right]  $$ \n",
    "<p></p>\n",
    "$$B = \\left[ \\begin{array}{c} 35 \\\\ 94 \\\\ \\end{array} \\right]$$\n",
    "<p></p>\n",
    "$$\\left[ \\begin{array}{ccc} 1 & 1 \\\\ 2 & 4 \\\\ \\end{array} \\right]\\left[ \\begin{array}{c} x \\\\ y \\\\ \\end{array} \\right] = \\left[ \\begin{array}{c} 35 \\\\ 94 \\\\ \\end{array} \\right] $$ \n",
    "<p></p>\n",
    "<center> AX = B </center>\n",
    "<p> </p>\n",
    "<center> A<sup>-1 </sup>AX = A<sup>-1</sup>B  </center>\n",
    "<p> </p>\n",
    "\n",
    "<center>X = A<sup>-1</sup>B </center>"
   ]
  },
  {
   "cell_type": "code",
   "execution_count": 2,
   "metadata": {},
   "outputs": [],
   "source": [
    "import numpy as np "
   ]
  },
  {
   "cell_type": "code",
   "execution_count": 26,
   "metadata": {},
   "outputs": [],
   "source": [
    "# Defining matrices\n",
    "A = np.matrix([[1,1], [2,4]])\n",
    "B = np.matrix([[35], [94]])"
   ]
  },
  {
   "cell_type": "code",
   "execution_count": 27,
   "metadata": {},
   "outputs": [
    {
     "name": "stdout",
     "output_type": "stream",
     "text": [
      "[[1 1]\n",
      " [2 4]]\n"
     ]
    }
   ],
   "source": [
    "print(A)"
   ]
  },
  {
   "cell_type": "code",
   "execution_count": 28,
   "metadata": {},
   "outputs": [
    {
     "name": "stdout",
     "output_type": "stream",
     "text": [
      "[[35]\n",
      " [94]]\n"
     ]
    }
   ],
   "source": [
    "print(B)"
   ]
  },
  {
   "cell_type": "code",
   "execution_count": 29,
   "metadata": {},
   "outputs": [],
   "source": [
    "# Taking inverse of A \n",
    "# Using numpy linear algebra function linalg.inv()\n",
    "# More Infor at http://docs.scipy.org/doc/numpy-1.10.1/reference/routines.linalg.html\n",
    "A_inverse = np.linalg.inv(A)"
   ]
  },
  {
   "cell_type": "code",
   "execution_count": 30,
   "metadata": {},
   "outputs": [
    {
     "name": "stdout",
     "output_type": "stream",
     "text": [
      "[[ 2.  -0.5]\n",
      " [-1.   0.5]]\n"
     ]
    }
   ],
   "source": [
    "print(A_inverse)"
   ]
  },
  {
   "cell_type": "code",
   "execution_count": 31,
   "metadata": {},
   "outputs": [],
   "source": [
    "# Solving for X\n",
    "X = A_inverse * B "
   ]
  },
  {
   "cell_type": "code",
   "execution_count": 32,
   "metadata": {},
   "outputs": [
    {
     "name": "stdout",
     "output_type": "stream",
     "text": [
      "[[23.]\n",
      " [12.]]\n"
     ]
    }
   ],
   "source": [
    "print(X)"
   ]
  },
  {
   "cell_type": "code",
   "execution_count": 33,
   "metadata": {},
   "outputs": [
    {
     "name": "stdout",
     "output_type": "stream",
     "text": [
      "[[23.]] [[12.]]\n"
     ]
    }
   ],
   "source": [
    "x, y = X\n",
    "print(x, y)"
   ]
  },
  {
   "cell_type": "markdown",
   "metadata": {},
   "source": [
    "## Another System of Linear Equation in 2 variables problem"
   ]
  },
  {
   "cell_type": "markdown",
   "metadata": {},
   "source": [
    "<center> 6x - 11y = -58 </center> \n",
    "<center> 8x + y = 1 </center> \n",
    "\n",
    "<p> </p> \n",
    "\n",
    "$$A = \\left[ \\begin{array}{ccc} 6 & -11 \\\\ 8 & 1 \\\\ \\end{array} \\right]$$ \n",
    "<p></p>\n",
    "$$X = \\left[ \\begin{array}{c} x \\\\ y \\\\ \\end{array} \\right]  $$ \n",
    "<p></p>\n",
    "$$B = \\left[ \\begin{array}{c} -58 \\\\ 1 \\\\ \\end{array} \\right]$$\n",
    "<p></p>\n",
    "$$\\left[ \\begin{array}{ccc} 6 & -11 \\\\ 8 & 1 \\\\ \\end{array} \\right]\\left[ \\begin{array}{c} x \\\\ y \\\\ \\end{array} \\right] = \\left[ \\begin{array}{c} -58 \\\\ 1 \\\\ \\end{array} \\right] $$ \n",
    "<p></p>\n",
    "<center> AX = B </center>\n",
    "<p> </p>\n",
    "<center> A<sup>-1 </sup>AX = A<sup>-1</sup>B  </center>\n",
    "<p> </p>\n",
    "\n",
    "<center>X = A<sup>-1</sup>B </center>"
   ]
  },
  {
   "cell_type": "code",
   "execution_count": 23,
   "metadata": {},
   "outputs": [
    {
     "name": "stdout",
     "output_type": "stream",
     "text": [
      "x =  [[-0.5]]  y =  [[5.]]\n"
     ]
    }
   ],
   "source": [
    "# Defining matrices\n",
    "A = np.matrix([[6,-11], [8,1]])\n",
    "B = np.matrix([[-58], [1]])\n",
    "\n",
    "# Taking inverse of A \n",
    "# Using numpy linear algebra function linalg.inv()\n",
    "# More Infor at http://docs.scipy.org/doc/numpy-1.10.1/reference/routines.linalg.html\n",
    "A_inverse = np.linalg.inv(A)\n",
    "\n",
    "# Solving for X\n",
    "X = A_inverse * B \n",
    "\n",
    "# Show results\n",
    "x, y = X\n",
    "\n",
    "print(\"x = \",x,\" y = \", y )\n",
    "\n"
   ]
  },
  {
   "cell_type": "markdown",
   "metadata": {},
   "source": [
    "## System of Linear Equation in 3 variables problem\n"
   ]
  },
  {
   "cell_type": "markdown",
   "metadata": {},
   "source": [
    "From P.781 of Elementary and Intermediate Algebra Fifth Edition by Jerome E. Kaufman and Karen L. Schwitters"
   ]
  },
  {
   "cell_type": "markdown",
   "metadata": {},
   "source": [
    "<left> 4x - 3y -2z = 5  </left> \n",
    "<p> </p> \n",
    "<left>      5y + z = -11 </left> \n",
    "<p> </p> \n",
    "<left>          3z = 12 </left> \n",
    "<p> </p> \n",
    "\n",
    "$$A = \\left[ \\begin{array}{ccc} 4 & 0 & 0 \\\\ 3 & 5 & 0 \\\\ 2 & 1 & 3 \\\\ \\end{array} \\right]$$ \n",
    "<p></p>\n",
    "$$X = \\left[ \\begin{array}{c} x \\\\ y \\\\ z \\\\ \\end{array} \\right]$$ \n",
    "<p></p>\n",
    "$$B = \\left[ \\begin{array}{c} 5 \\\\ -11 \\\\ 12 \\\\ \\end{array} \\right]$$ \n",
    "<p></p>\n",
    "$$\\left[ \\begin{array}{ccc} 4 & 0 & 0 \\\\ 3 & 5 & 0 \\\\ 2 & 1 & 3 \\\\ \\end{array} \\right]\n",
    "  \\left[ \\begin{array}{c} x \\\\ y \\\\ z \\\\ \\end{array} \\right] \n",
    "  = \\left[ \\begin{array}{c} 5 \\\\ -11 \\\\ 12 \\\\ \\end{array} \\right] $$ \n",
    "<p></p>\n",
    "\n",
    "<center> AX = B </center>\n",
    "<p> </p>\n",
    "<center> A<sup>-1 </sup>AX = A<sup>-1</sup>B  </center>\n",
    "<p> </p>\n",
    "\n",
    "<center>X = A<sup>-1</sup>B </center>"
   ]
  },
  {
   "cell_type": "code",
   "execution_count": 24,
   "metadata": {},
   "outputs": [
    {
     "name": "stdout",
     "output_type": "stream",
     "text": [
      "x =  [[-1.]]  y =  [[-3.]]  z =  [[4.]]\n"
     ]
    }
   ],
   "source": [
    "# Defining matrices\n",
    "A = np.matrix([[4,3,2], [0,5,1], [0,0,3]])\n",
    "B = np.matrix([[-5], [-11], [12]])\n",
    "\n",
    "# Taking inverse of A \n",
    "# Using numpy linear algebra function linalg.inv()\n",
    "# More Infor at http://docs.scipy.org/doc/numpy-1.10.1/reference/routines.linalg.html\n",
    "A_inverse = np.linalg.inv(A)\n",
    "\n",
    "# Solving for X\n",
    "X = A_inverse * B \n",
    "\n",
    "# Show results\n",
    "x, y, z = X\n",
    "print(\"x = \",x,\" y = \", y, \" z = \", z )"
   ]
  },
  {
   "cell_type": "code",
   "execution_count": null,
   "metadata": {},
   "outputs": [],
   "source": []
  }
 ],
 "metadata": {
  "kernelspec": {
   "display_name": "Python 3",
   "language": "python",
   "name": "python3"
  },
  "language_info": {
   "codemirror_mode": {
    "name": "ipython",
    "version": 3
   },
   "file_extension": ".py",
   "mimetype": "text/x-python",
   "name": "python",
   "nbconvert_exporter": "python",
   "pygments_lexer": "ipython3",
   "version": "3.7.1"
  }
 },
 "nbformat": 4,
 "nbformat_minor": 2
}
